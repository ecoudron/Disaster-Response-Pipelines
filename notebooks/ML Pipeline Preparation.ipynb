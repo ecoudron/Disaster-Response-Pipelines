{
 "cells": [
  {
   "cell_type": "markdown",
   "metadata": {},
   "source": [
    "# ML Pipeline Preparation\n",
    "Follow the instructions below to help you create your ML pipeline.\n",
    "### 1. Import libraries and load data from database.\n",
    "- Import Python libraries\n",
    "- Load dataset from database with [`read_sql_table`](https://pandas.pydata.org/pandas-docs/stable/generated/pandas.read_sql_table.html)\n",
    "- Define feature and target variables X and Y"
   ]
  },
  {
   "cell_type": "code",
   "execution_count": 4,
   "metadata": {},
   "outputs": [],
   "source": [
    "# import libraries\n",
    "import pandas as pd\n",
    "from sqlalchemy import create_engine"
   ]
  },
  {
   "cell_type": "code",
   "execution_count": 5,
   "metadata": {},
   "outputs": [],
   "source": [
    "# load data from database\n",
    "engine = create_engine('sqlite:///InsertDatabaseName.db')\n",
    "df = pd.read_sql_table(\"InsertTableName\",engine)\n",
    "df\n",
    "X = df.message\n",
    "y = df.iloc[:,4:].values"
   ]
  },
  {
   "cell_type": "code",
   "execution_count": 6,
   "metadata": {},
   "outputs": [
    {
     "name": "stdout",
     "output_type": "stream",
     "text": [
      "(26216,)\n",
      "(26216, 36)\n",
      "Weather update - a cold front from Cuba that could pass over Haiti\n",
      "[1 0 0 0 0 0 0 0 0 0 0 0 0 0 0 0 0 0 0 0 0 0 0 0 0 0 0 0 0 0 0 0 0 0 0 0]\n"
     ]
    }
   ],
   "source": [
    "print(X.shape)\n",
    "print(y.shape)\n",
    "print(X[0])\n",
    "print(y[0])"
   ]
  },
  {
   "cell_type": "markdown",
   "metadata": {},
   "source": [
    "### 2. Write a tokenization function to process your text data"
   ]
  },
  {
   "cell_type": "code",
   "execution_count": 7,
   "metadata": {},
   "outputs": [
    {
     "name": "stdout",
     "output_type": "stream",
     "text": [
      "[nltk_data] Downloading package punkt to /root/nltk_data...\n",
      "[nltk_data]   Package punkt is already up-to-date!\n",
      "[nltk_data] Downloading package stopwords to /root/nltk_data...\n",
      "[nltk_data]   Package stopwords is already up-to-date!\n",
      "[nltk_data] Downloading package wordnet to /root/nltk_data...\n",
      "[nltk_data]   Package wordnet is already up-to-date!\n"
     ]
    }
   ],
   "source": [
    "import re\n",
    "import nltk\n",
    "from nltk.corpus import stopwords\n",
    "from nltk.stem.wordnet import WordNetLemmatizer\n",
    "from nltk.stem import PorterStemmer\n",
    "from nltk.tokenize import word_tokenize\n",
    "\n",
    "nltk.download('punkt')\n",
    "nltk.download('stopwords')\n",
    "nltk.download('wordnet')\n",
    "\n",
    "stop_words = stopwords.words(\"english\")\n",
    "lemmatizer = WordNetLemmatizer()\n",
    "stemmer = PorterStemmer()\n",
    "\n",
    "def tokenize(text):\n",
    "    text = re.sub(r\"[^a-zA-Z0-9 ]\",\"\",text.lower().strip())\n",
    "#     print(text)\n",
    "    tokens = word_tokenize(text)\n",
    "#     print(tokens)\n",
    "    tokens2 = [lemmatizer.lemmatize(stemmer.stem(word)) for word in tokens if word not in stop_words]\n",
    "    return tokens2"
   ]
  },
  {
   "cell_type": "code",
   "execution_count": 8,
   "metadata": {},
   "outputs": [
    {
     "data": {
      "text/plain": [
       "['weather', 'updat', 'cold', 'front', 'cuba', 'could', 'pas', 'haiti']"
      ]
     },
     "execution_count": 8,
     "metadata": {},
     "output_type": "execute_result"
    }
   ],
   "source": [
    "# Test\n",
    "tokenize(X[0])"
   ]
  },
  {
   "cell_type": "markdown",
   "metadata": {},
   "source": [
    "### 3. Build a machine learning pipeline\n",
    "This machine pipeline should take in the `message` column as input and output classification results on the other 36 categories in the dataset. You may find the [MultiOutputClassifier](http://scikit-learn.org/stable/modules/generated/sklearn.multioutput.MultiOutputClassifier.html) helpful for predicting multiple target variables."
   ]
  },
  {
   "cell_type": "code",
   "execution_count": 9,
   "metadata": {},
   "outputs": [],
   "source": [
    "from sklearn.pipeline import Pipeline\n",
    "from sklearn.ensemble import RandomForestClassifier\n",
    "from sklearn.neighbors import KNeighborsClassifier\n",
    "from sklearn.feature_extraction.text import TfidfVectorizer, CountVectorizer, TfidfTransformer\n",
    "from sklearn.multioutput import MultiOutputClassifier\n",
    "\n",
    "rf = MultiOutputClassifier(RandomForestClassifier())\n",
    "\n",
    "pipeline = Pipeline([\n",
    "    ('tfidf', TfidfVectorizer(tokenizer=tokenize)),\n",
    "    (\"clf\",rf)     \n",
    "])"
   ]
  },
  {
   "cell_type": "code",
   "execution_count": 10,
   "metadata": {},
   "outputs": [
    {
     "name": "stdout",
     "output_type": "stream",
     "text": [
      "<bound method Pipeline.get_params of Pipeline(memory=None,\n",
      "     steps=[('tfidf', TfidfVectorizer(analyzer='word', binary=False, decode_error='strict',\n",
      "        dtype=<class 'numpy.int64'>, encoding='utf-8', input='content',\n",
      "        lowercase=True, max_df=1.0, max_features=None, min_df=1,\n",
      "        ngram_range=(1, 1), norm='l2', preprocessor=None, smooth_idf=True,\n",
      " ...oob_score=False, random_state=None, verbose=0,\n",
      "            warm_start=False),\n",
      "           n_jobs=1))])>\n"
     ]
    }
   ],
   "source": [
    "print(pipeline.get_params)"
   ]
  },
  {
   "cell_type": "markdown",
   "metadata": {},
   "source": [
    "### 4. Train pipeline\n",
    "- Split data into train and test sets\n",
    "- Train pipeline"
   ]
  },
  {
   "cell_type": "code",
   "execution_count": 11,
   "metadata": {},
   "outputs": [],
   "source": [
    "from sklearn.model_selection import train_test_split\n",
    "\n",
    "X_train, X_test, y_train, y_test = train_test_split(X,y, random_state=42)\n",
    "# y_train"
   ]
  },
  {
   "cell_type": "code",
   "execution_count": 12,
   "metadata": {},
   "outputs": [
    {
     "data": {
      "text/plain": [
       "Pipeline(memory=None,\n",
       "     steps=[('tfidf', TfidfVectorizer(analyzer='word', binary=False, decode_error='strict',\n",
       "        dtype=<class 'numpy.int64'>, encoding='utf-8', input='content',\n",
       "        lowercase=True, max_df=1.0, max_features=None, min_df=1,\n",
       "        ngram_range=(1, 1), norm='l2', preprocessor=None, smooth_idf=True,\n",
       " ...oob_score=False, random_state=None, verbose=0,\n",
       "            warm_start=False),\n",
       "           n_jobs=1))])"
      ]
     },
     "execution_count": 12,
     "metadata": {},
     "output_type": "execute_result"
    }
   ],
   "source": [
    "pipeline.fit(X_train, y_train)"
   ]
  },
  {
   "cell_type": "markdown",
   "metadata": {},
   "source": [
    "### 5. Test your model\n",
    "Report the f1 score, precision and recall for each output category of the dataset. You can do this by iterating through the columns and calling sklearn's `classification_report` on each."
   ]
  },
  {
   "cell_type": "code",
   "execution_count": 13,
   "metadata": {},
   "outputs": [
    {
     "name": "stdout",
     "output_type": "stream",
     "text": [
      "0.761687579466\n",
      "0.755552074631\n",
      "0.770189240056\n"
     ]
    }
   ],
   "source": [
    "from sklearn.preprocessing import MultiLabelBinarizer\n",
    "from sklearn.metrics import f1_score, precision_score, recall_score\n",
    "\n",
    "y_pred = pipeline.predict(X_test)\n",
    "\n",
    "m = MultiLabelBinarizer().fit(y_test)\n",
    "\n",
    "f1 = f1_score(m.transform(y_test),\n",
    "         m.transform(y_pred),\n",
    "         average='macro')\n",
    "print(f1)\n",
    "precision = precision_score(m.transform(y_test),\n",
    "         m.transform(y_pred),\n",
    "         average='macro')\n",
    "print(precision)\n",
    "\n",
    "recall = recall_score(m.transform(y_test),\n",
    "         m.transform(y_pred),\n",
    "         average='macro')\n",
    "print(recall)"
   ]
  },
  {
   "cell_type": "markdown",
   "metadata": {},
   "source": [
    "\n",
    "### 6. Improve your model\n",
    "Use grid search to find better parameters. "
   ]
  },
  {
   "cell_type": "code",
   "execution_count": null,
   "metadata": {},
   "outputs": [
    {
     "name": "stdout",
     "output_type": "stream",
     "text": [
      "Fitting 3 folds for each of 10 candidates, totalling 30 fits\n",
      "[CV] clf__estimator__n_estimators=10, tfidf__use_idf=True ............\n",
      "[CV]  clf__estimator__n_estimators=10, tfidf__use_idf=True, score=0.2268843454379005, total=  45.3s\n",
      "[CV] clf__estimator__n_estimators=10, tfidf__use_idf=True ............\n"
     ]
    },
    {
     "name": "stderr",
     "output_type": "stream",
     "text": [
      "[Parallel(n_jobs=-1)]: Done   1 out of   1 | elapsed:   53.2s remaining:    0.0s\n"
     ]
    },
    {
     "name": "stdout",
     "output_type": "stream",
     "text": [
      "[CV]  clf__estimator__n_estimators=10, tfidf__use_idf=True, score=0.22993591699725358, total=  44.9s\n",
      "[CV] clf__estimator__n_estimators=10, tfidf__use_idf=True ............\n"
     ]
    },
    {
     "name": "stderr",
     "output_type": "stream",
     "text": [
      "[Parallel(n_jobs=-1)]: Done   2 out of   2 | elapsed:  1.8min remaining:    0.0s\n"
     ]
    },
    {
     "name": "stdout",
     "output_type": "stream",
     "text": [
      "[CV]  clf__estimator__n_estimators=10, tfidf__use_idf=True, score=0.23481843149221848, total=  45.8s\n",
      "[CV] clf__estimator__n_estimators=10, tfidf__use_idf=False ...........\n",
      "[CV]  clf__estimator__n_estimators=10, tfidf__use_idf=False, score=0.2354287458040891, total=  45.4s\n",
      "[CV] clf__estimator__n_estimators=10, tfidf__use_idf=False ...........\n",
      "[CV]  clf__estimator__n_estimators=10, tfidf__use_idf=False, score=0.2311565456209948, total=  46.4s\n",
      "[CV] clf__estimator__n_estimators=10, tfidf__use_idf=False ...........\n",
      "[CV]  clf__estimator__n_estimators=10, tfidf__use_idf=False, score=0.23329264571254196, total=  46.8s\n",
      "[CV] clf__estimator__n_estimators=30, tfidf__use_idf=True ............\n",
      "[CV]  clf__estimator__n_estimators=30, tfidf__use_idf=True, score=0.2511443393347574, total= 2.1min\n",
      "[CV] clf__estimator__n_estimators=30, tfidf__use_idf=True ............\n",
      "[CV]  clf__estimator__n_estimators=30, tfidf__use_idf=True, score=0.24580408910588952, total= 2.1min\n",
      "[CV] clf__estimator__n_estimators=30, tfidf__use_idf=True ............\n",
      "[CV]  clf__estimator__n_estimators=30, tfidf__use_idf=True, score=0.25160207506866034, total= 2.1min\n",
      "[CV] clf__estimator__n_estimators=30, tfidf__use_idf=False ...........\n",
      "[CV]  clf__estimator__n_estimators=30, tfidf__use_idf=False, score=0.24870308208727496, total= 2.1min\n",
      "[CV] clf__estimator__n_estimators=30, tfidf__use_idf=False ...........\n",
      "[CV]  clf__estimator__n_estimators=30, tfidf__use_idf=False, score=0.24397314617027768, total= 2.1min\n",
      "[CV] clf__estimator__n_estimators=30, tfidf__use_idf=False ...........\n",
      "[CV]  clf__estimator__n_estimators=30, tfidf__use_idf=False, score=0.25068660360085443, total= 2.1min\n",
      "[CV] clf__estimator__n_estimators=100, tfidf__use_idf=True ...........\n",
      "[CV]  clf__estimator__n_estimators=100, tfidf__use_idf=True, score=0.25694232529752825, total= 6.6min\n",
      "[CV] clf__estimator__n_estimators=100, tfidf__use_idf=True ...........\n",
      "[CV]  clf__estimator__n_estimators=100, tfidf__use_idf=True, score=0.25205981080256334, total= 6.6min\n",
      "[CV] clf__estimator__n_estimators=100, tfidf__use_idf=True ...........\n",
      "[CV]  clf__estimator__n_estimators=100, tfidf__use_idf=True, score=0.2534330180042722, total= 6.7min\n",
      "[CV] clf__estimator__n_estimators=100, tfidf__use_idf=False ..........\n",
      "[CV]  clf__estimator__n_estimators=100, tfidf__use_idf=False, score=0.2540433323161428, total= 6.8min\n",
      "[CV] clf__estimator__n_estimators=100, tfidf__use_idf=False ..........\n",
      "[CV]  clf__estimator__n_estimators=100, tfidf__use_idf=False, score=0.24931339639914557, total= 6.7min\n",
      "[CV] clf__estimator__n_estimators=100, tfidf__use_idf=False ..........\n",
      "[CV]  clf__estimator__n_estimators=100, tfidf__use_idf=False, score=0.25267012511443393, total= 6.8min\n",
      "[CV] clf__estimator__n_estimators=300, tfidf__use_idf=True ...........\n",
      "[CV]  clf__estimator__n_estimators=300, tfidf__use_idf=True, score=0.2583155324992371, total=19.8min\n",
      "[CV] clf__estimator__n_estimators=300, tfidf__use_idf=True ...........\n"
     ]
    }
   ],
   "source": [
    "from sklearn.model_selection import GridSearchCV\n",
    "\n",
    "parameters = [\n",
    "    {\"tfidf__use_idf\" : [True,False],\n",
    "    \"clf__estimator__n_estimators\" : [10, 30,100,300,1000]}\n",
    "]\n",
    "\n",
    "cv = GridSearchCV(pipeline, parameters,cv=3, n_jobs=-1,verbose=3)\n",
    "cv.fit(X_train, y_train)"
   ]
  },
  {
   "cell_type": "markdown",
   "metadata": {},
   "source": [
    "### 7. Test your model\n",
    "Show the accuracy, precision, and recall of the tuned model.  \n",
    "\n",
    "Since this project focuses on code quality, process, and  pipelines, there is no minimum performance metric needed to pass. However, make sure to fine tune your models for accuracy, precision and recall to make your project stand out - especially for your portfolio!"
   ]
  },
  {
   "cell_type": "code",
   "execution_count": null,
   "metadata": {},
   "outputs": [],
   "source": [
    "print(cv.best_params_)\n",
    "y_pred = cv.predict(X_test)\n",
    "\n",
    "m = MultiLabelBinarizer().fit(y_test)\n",
    "\n",
    "f1 = f1_score(m.transform(y_test),\n",
    "         m.transform(y_pred),\n",
    "         average='macro')\n",
    "print(f1)"
   ]
  },
  {
   "cell_type": "markdown",
   "metadata": {},
   "source": [
    "### 8. Try improving your model further. Here are a few ideas:\n",
    "* try other machine learning algorithms\n",
    "* add other features besides the TF-IDF"
   ]
  },
  {
   "cell_type": "code",
   "execution_count": null,
   "metadata": {},
   "outputs": [],
   "source": []
  },
  {
   "cell_type": "markdown",
   "metadata": {},
   "source": [
    "### 9. Export your model as a pickle file"
   ]
  },
  {
   "cell_type": "code",
   "execution_count": null,
   "metadata": {},
   "outputs": [],
   "source": []
  },
  {
   "cell_type": "markdown",
   "metadata": {},
   "source": [
    "### 10. Use this notebook to complete `train.py`\n",
    "Use the template file attached in the Resources folder to write a script that runs the steps above to create a database and export a model based on a new dataset specified by the user."
   ]
  },
  {
   "cell_type": "code",
   "execution_count": null,
   "metadata": {},
   "outputs": [],
   "source": []
  }
 ],
 "metadata": {
  "kernelspec": {
   "display_name": "Python 3",
   "language": "python",
   "name": "python3"
  },
  "language_info": {
   "codemirror_mode": {
    "name": "ipython",
    "version": 3
   },
   "file_extension": ".py",
   "mimetype": "text/x-python",
   "name": "python",
   "nbconvert_exporter": "python",
   "pygments_lexer": "ipython3",
   "version": "3.7.7"
  }
 },
 "nbformat": 4,
 "nbformat_minor": 2
}
